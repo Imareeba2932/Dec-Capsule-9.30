{
 "cells": [
  {
   "cell_type": "markdown",
   "metadata": {},
   "source": [
    "Condition Statements\n",
    "- if      #for multiple condition\n",
    "- elif    #for multiple condition\n",
    "- if else  #for single condition\n",
    "- nested if\n",
    "- match case"
   ]
  },
  {
   "cell_type": "code",
   "execution_count": 5,
   "metadata": {},
   "outputs": [
    {
     "name": "stdout",
     "output_type": "stream",
     "text": [
      "b is greater than a\n",
      "c is greater than a\n"
     ]
    }
   ],
   "source": [
    "a = 10\n",
    "b = 20\n",
    "c = 30\n",
    "if a>b:\n",
    "    print(\"a is greater than b\")\n",
    "if a>c:\n",
    "    print(\"a is greater than c\")\n",
    "if b>c:\n",
    "    print(\"b is greater than c\")    \n",
    "if b>a:\n",
    "    print(\"b is greater than a\")\n",
    "if c>a:\n",
    "    print(\"c is greater than a\")\n"
   ]
  },
  {
   "cell_type": "code",
   "execution_count": 6,
   "metadata": {},
   "outputs": [
    {
     "name": "stdout",
     "output_type": "stream",
     "text": [
      "no one is greater\n"
     ]
    }
   ],
   "source": [
    "a = 10\n",
    "b = 20\n",
    "c = 30\n",
    "if a>b:\n",
    "    print(\"a is greater than b\")\n",
    "elif a>c:\n",
    "    print(\"a is greater than c\")\n",
    "elif b>c:\n",
    "    print(\"b is greater than c\")    \n",
    "elif b<a:\n",
    "    print(\"b is greater than a\")\n",
    "elif c<a:\n",
    "    print(\"c is greater than a\")\n",
    "else:\n",
    "    print(\"no one is greater\")"
   ]
  },
  {
   "cell_type": "code",
   "execution_count": 7,
   "metadata": {},
   "outputs": [
    {
     "name": "stdout",
     "output_type": "stream",
     "text": [
      "b is greater than a\n"
     ]
    }
   ],
   "source": [
    "a=10\n",
    "b=20\n",
    "if a>b:\n",
    "    print(\"a is greater than b\")\n",
    "else:\n",
    "    print(\"b is greater than a\")"
   ]
  },
  {
   "cell_type": "code",
   "execution_count": 12,
   "metadata": {},
   "outputs": [
    {
     "name": "stdout",
     "output_type": "stream",
     "text": [
      "positive number\n"
     ]
    }
   ],
   "source": [
    "num = int(input(\"enter a number:\"))\n",
    "if num > 0:\n",
    "    print(\"positive number\")\n",
    "elif num == 0:\n",
    "    print(\"zero\")\n",
    "else:\n",
    "    print(\"negative number\")"
   ]
  },
  {
   "cell_type": "code",
   "execution_count": 13,
   "metadata": {},
   "outputs": [
    {
     "name": "stdout",
     "output_type": "stream",
     "text": [
      "odd number\n"
     ]
    }
   ],
   "source": [
    "num = int(input(\"enter a number:\"))\n",
    "if num % 2 == 0:\n",
    "    print(\"even number\")\n",
    "else:\n",
    "    print(\"odd number\")"
   ]
  },
  {
   "cell_type": "code",
   "execution_count": null,
   "metadata": {},
   "outputs": [],
   "source": [
    "x=6\n",
    "y=5\n",
    "if x>5:\n",
    "    if y>2:\n",
    "        print(\"Both x and y are greater than 5 and 2, respectively\")\n",
    "    else:\n",
    "        print(\"x is greater than 5 but y is less than 2\")\n",
    "else:\n",
    "    print('x is not greater than 5')"
   ]
  },
  {
   "cell_type": "code",
   "execution_count": 2,
   "metadata": {},
   "outputs": [
    {
     "name": "stdout",
     "output_type": "stream",
     "text": [
      "Hurray! you have successfully registered 🎊🤩\n"
     ]
    }
   ],
   "source": [
    "username = input(\"enter username:\")\n",
    "email = input(\"enter email:\")\n",
    "pwd = input(\"enter password:\")\n",
    "cpwd = input(\"confirm password:\")\n",
    "if len(username)>5 and len(username)<=15:\n",
    "    if '@' in email and email.islower():\n",
    "        if len(pwd)>=8 and len(pwd)<=15:\n",
    "            if pwd==cpwd:\n",
    "                print(\"Hurray! you have successfully registered 🎊🤩\")\n",
    "            else:\n",
    "                print(\"password and confirm password should be same 🤦‍♂️🤦‍♂️\")\n",
    "        else:\n",
    "            print(\"password should be between 8 to 15 characters😒😒\")\n",
    "    else:\n",
    "        print(\"email should be in lowercase and should contain @ symbol🤦‍♂️🤦‍♂️\")\n",
    "else:\n",
    "    print(\"username should be between 5 to 15 characters😭😭😭😭😭\")"
   ]
  },
  {
   "cell_type": "code",
   "execution_count": 4,
   "metadata": {},
   "outputs": [
    {
     "name": "stdout",
     "output_type": "stream",
     "text": [
      "a string\n"
     ]
    }
   ],
   "source": [
    "value = \"apple\"\n",
    "match value:\n",
    "    case str if len(str) == 0:\n",
    "        print(\"empty string\")\n",
    "    case str if len(str)>0:\n",
    "        print(\"a string\")\n",
    "    case apple:\n",
    "        print(\"apple\")"
   ]
  },
  {
   "cell_type": "code",
   "execution_count": null,
   "metadata": {},
   "outputs": [],
   "source": []
  }
 ],
 "metadata": {
  "kernelspec": {
   "display_name": "Python 3",
   "language": "python",
   "name": "python3"
  },
  "language_info": {
   "codemirror_mode": {
    "name": "ipython",
    "version": 3
   },
   "file_extension": ".py",
   "mimetype": "text/x-python",
   "name": "python",
   "nbconvert_exporter": "python",
   "pygments_lexer": "ipython3",
   "version": "3.11.4"
  }
 },
 "nbformat": 4,
 "nbformat_minor": 2
}
