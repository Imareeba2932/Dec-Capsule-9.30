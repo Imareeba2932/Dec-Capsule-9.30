{
 "cells": [
  {
   "cell_type": "code",
   "execution_count": 11,
   "metadata": {},
   "outputs": [
    {
     "name": "stdout",
     "output_type": "stream",
     "text": [
      "facebook\n",
      "gallery\n"
     ]
    }
   ],
   "source": [
    "apps = ['chrome','maps','gallery','watsapp','instagram','gallery','facebook','linkedin','zomato','swiggy','contact','drive',\n",
    "        'calendar','clock','calculator','playstore','gallery','youtube','gmail','phone','messages','settings','camera','music']\n",
    "print(apps[6])\n",
    "print(apps[5])"
   ]
  },
  {
   "cell_type": "code",
   "execution_count": 12,
   "metadata": {},
   "outputs": [
    {
     "name": "stdout",
     "output_type": "stream",
     "text": [
      "['gallery', 'watsapp', 'instagram', 'gallery', 'facebook', 'linkedin', 'zomato']\n"
     ]
    }
   ],
   "source": [
    "print(apps[2:9])"
   ]
  },
  {
   "cell_type": "code",
   "execution_count": 13,
   "metadata": {},
   "outputs": [
    {
     "name": "stdout",
     "output_type": "stream",
     "text": [
      "['COD', 'food truck', 'coin master', 'royal match', 'pool', 'cricket', 'water sort', 'subway', 'UNO', 'jigsaw']\n"
     ]
    }
   ],
   "source": [
    "app2 = ['ludo','candy crush','COD','food truck','coin master','royal match','pool','cricket','water sort','subway','UNO','jigsaw','find me','farm hen']\n",
    "print(app2[2:12])"
   ]
  },
  {
   "cell_type": "code",
   "execution_count": 14,
   "metadata": {},
   "outputs": [
    {
     "name": "stdout",
     "output_type": "stream",
     "text": [
      "['gallery', 'instagram', 'facebook', 'zomato', 'contact', 'calendar', 'calculator']\n"
     ]
    }
   ],
   "source": [
    "print(apps[2:15:2])"
   ]
  },
  {
   "cell_type": "code",
   "execution_count": 15,
   "metadata": {},
   "outputs": [
    {
     "name": "stdout",
     "output_type": "stream",
     "text": [
      "['music']\n"
     ]
    }
   ],
   "source": [
    "print(apps[-1:])"
   ]
  },
  {
   "cell_type": "code",
   "execution_count": 16,
   "metadata": {},
   "outputs": [
    {
     "name": "stdout",
     "output_type": "stream",
     "text": [
      "['gmail', 'phone', 'messages', 'settings', 'camera']\n"
     ]
    }
   ],
   "source": [
    "print(apps[-6:-1])"
   ]
  },
  {
   "cell_type": "code",
   "execution_count": 17,
   "metadata": {},
   "outputs": [
    {
     "name": "stdout",
     "output_type": "stream",
     "text": [
      "o\n"
     ]
    }
   ],
   "source": [
    "a = \"hello\"\n",
    "print(a[4])"
   ]
  },
  {
   "cell_type": "code",
   "execution_count": 21,
   "metadata": {},
   "outputs": [
    {
     "name": "stdout",
     "output_type": "stream",
     "text": [
      "['chrome', 'maps', 'watsapp', 'instagram', 'facebook', 'linkedin', 'zomato', 'swiggy', 'contact', 'drive', 'calendar', 'clock', 'calculator', 'playstore', 'youtube', 'gmail', 'phone', 'messages', 'settings', 'camera', 'music']\n"
     ]
    }
   ],
   "source": [
    "apps.remove('gallery')\n",
    "print(apps)"
   ]
  },
  {
   "cell_type": "code",
   "execution_count": null,
   "metadata": {},
   "outputs": [],
   "source": []
  }
 ],
 "metadata": {
  "kernelspec": {
   "display_name": "Python 3",
   "language": "python",
   "name": "python3"
  },
  "language_info": {
   "codemirror_mode": {
    "name": "ipython",
    "version": 3
   },
   "file_extension": ".py",
   "mimetype": "text/x-python",
   "name": "python",
   "nbconvert_exporter": "python",
   "pygments_lexer": "ipython3",
   "version": "3.11.4"
  }
 },
 "nbformat": 4,
 "nbformat_minor": 2
}
