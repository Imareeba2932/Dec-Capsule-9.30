{
 "cells": [
  {
   "cell_type": "code",
   "execution_count": null,
   "metadata": {},
   "outputs": [],
   "source": [
    "for i in range(1, 11):\n",
    "    print(i)\n"
   ]
  },
  {
   "cell_type": "code",
   "execution_count": null,
   "metadata": {},
   "outputs": [],
   "source": [
    "num = int(input(\"Enter a number: \"))\n",
    "i = 1\n",
    "while i <= 10:\n",
    "    print(num, \"*\", i, \"=\", num * i)\n",
    "    i += 1\n"
   ]
  },
  {
   "cell_type": "code",
   "execution_count": null,
   "metadata": {},
   "outputs": [],
   "source": [
    "num = int(input(\"Enter a number: \"))\n",
    "is_prime = True\n",
    "i = 2\n",
    "while i <= num // 2:\n",
    "    if num % i == 0:\n",
    "        is_prime = False\n",
    "        break\n",
    "    i += 1\n",
    "if is_prime:\n",
    "    print(num, \"is a prime number\")\n",
    "else:\n",
    "    print(num, \"is not a prime number\")\n"
   ]
  },
  {
   "cell_type": "code",
   "execution_count": null,
   "metadata": {},
   "outputs": [],
   "source": [
    "string = input(\"Enter a string: \")\n",
    "is_palindrome = True\n",
    "for i in range(len(string) // 2):\n",
    "    if string[i] != string[len(string) - i - 1]:\n",
    "        is_palindrome = False\n",
    "        break\n",
    "if is_palindrome:\n",
    "    print(\"The string is a palindrome\")\n",
    "else:\n",
    "    print(\"The string is not a palindrome\")\n"
   ]
  },
  {
   "cell_type": "code",
   "execution_count": null,
   "metadata": {},
   "outputs": [],
   "source": [
    "numbers = [5, 10, 15, 20, 25]\n",
    "total = 0\n",
    "for num in numbers:\n",
    "    total += num\n",
    "average = total / len(numbers)\n",
    "print(\"Average:\", average)\n"
   ]
  },
  {
   "cell_type": "code",
   "execution_count": null,
   "metadata": {},
   "outputs": [],
   "source": [
    "arr = [3, 7, 1, 9, 4, 6, 8, 2, 5]\n",
    "min_element = arr[0]\n",
    "i = 1\n",
    "while i < len(arr):\n",
    "    if arr[i] < min_element:\n",
    "        min_element = arr[i]\n",
    "    i += 1\n",
    "print(\"Smallest element in the array:\", min_element)\n"
   ]
  },
  {
   "cell_type": "code",
   "execution_count": null,
   "metadata": {},
   "outputs": [],
   "source": [
    "arr = [3, 7, 1, 9, 4, 6, 8, 2, 5]\n",
    "min_element = arr[0]\n",
    "i = 1\n",
    "while i < len(arr):\n",
    "    if arr[i] < min_element:\n",
    "        min_element = arr[i]\n",
    "    i += 1\n",
    "print(\"Smallest element in the array:\", min_element)\n"
   ]
  },
  {
   "cell_type": "code",
   "execution_count": null,
   "metadata": {},
   "outputs": [],
   "source": [
    "arr = [3, 7, 1, 9, 4, 6, 8, 2, 5]\n",
    "min_element = arr[0]\n",
    "i = 1\n",
    "while i < len(arr):\n",
    "    if arr[i] < min_element:\n",
    "        min_element = arr[i]\n",
    "    i += 1\n",
    "print(\"Smallest element in the array:\", min_element)\n"
   ]
  },
  {
   "cell_type": "code",
   "execution_count": null,
   "metadata": {},
   "outputs": [],
   "source": [
    "limit = int(input(\"Enter the limit for Fibonacci series: \"))\n",
    "a, b = 0, 1\n",
    "for i in range(limit):\n",
    "    print(a, end=\" \")\n",
    "    a, b = b, a + b\n"
   ]
  },
  {
   "cell_type": "code",
   "execution_count": null,
   "metadata": {},
   "outputs": [],
   "source": [
    "limit = int(input(\"Enter the limit for Fibonacci series: \"))\n",
    "a, b = 0, 1\n",
    "for i in range(limit):\n",
    "    print(a, end=\" \")\n",
    "    a, b = b, a + b\n"
   ]
  },
  {
   "cell_type": "code",
   "execution_count": null,
   "metadata": {},
   "outputs": [],
   "source": [
    "limit = int(input(\"Enter the limit for Fibonacci series: \"))\n",
    "a, b = 0, 1\n",
    "for i in range(limit):\n",
    "    print(a, end=\" \")\n",
    "    a, b = b, a + b\n"
   ]
  },
  {
   "cell_type": "code",
   "execution_count": null,
   "metadata": {},
   "outputs": [],
   "source": [
    "num = int(input(\"Enter a number: \"))\n",
    "factorial = 1\n",
    "for i in range(1, num + 1):\n",
    "    factorial *= i\n",
    "print(\"Factorial of\", num, \"is\", factorial)\n"
   ]
  },
  {
   "cell_type": "code",
   "execution_count": null,
   "metadata": {},
   "outputs": [],
   "source": [
    "num = int(input(\"Enter a number: \"))\n",
    "i = 1\n",
    "while i <= 10:\n",
    "    print(num, \"*\", i, \"=\", num * i)\n",
    "    i += 1\n"
   ]
  },
  {
   "cell_type": "code",
   "execution_count": 4,
   "metadata": {},
   "outputs": [
    {
     "name": "stdout",
     "output_type": "stream",
     "text": [
      "\n",
      "Multiplication table for 1\n",
      "1 * 1 = 1\n",
      "1 * 2 = 2\n",
      "1 * 3 = 3\n",
      "1 * 4 = 4\n",
      "1 * 5 = 5\n",
      "1 * 6 = 6\n",
      "1 * 7 = 7\n",
      "1 * 8 = 8\n",
      "1 * 9 = 9\n",
      "1 * 10 = 10\n",
      "\n",
      "Multiplication table for 2\n",
      "2 * 1 = 2\n",
      "2 * 2 = 4\n",
      "2 * 3 = 6\n",
      "2 * 4 = 8\n",
      "2 * 5 = 10\n",
      "2 * 6 = 12\n",
      "2 * 7 = 14\n",
      "2 * 8 = 16\n",
      "2 * 9 = 18\n",
      "2 * 10 = 20\n",
      "\n",
      "Multiplication table for 3\n",
      "3 * 1 = 3\n",
      "3 * 2 = 6\n",
      "3 * 3 = 9\n",
      "3 * 4 = 12\n",
      "3 * 5 = 15\n",
      "3 * 6 = 18\n",
      "3 * 7 = 21\n",
      "3 * 8 = 24\n",
      "3 * 9 = 27\n",
      "3 * 10 = 30\n",
      "\n",
      "Multiplication table for 4\n",
      "4 * 1 = 4\n",
      "4 * 2 = 8\n",
      "4 * 3 = 12\n",
      "4 * 4 = 16\n",
      "4 * 5 = 20\n",
      "4 * 6 = 24\n",
      "4 * 7 = 28\n",
      "4 * 8 = 32\n",
      "4 * 9 = 36\n",
      "4 * 10 = 40\n",
      "\n",
      "Multiplication table for 5\n",
      "5 * 1 = 5\n",
      "5 * 2 = 10\n",
      "5 * 3 = 15\n",
      "5 * 4 = 20\n",
      "5 * 5 = 25\n",
      "5 * 6 = 30\n",
      "5 * 7 = 35\n",
      "5 * 8 = 40\n",
      "5 * 9 = 45\n",
      "5 * 10 = 50\n"
     ]
    }
   ],
   "source": [
    "for i in range(1, 6):\n",
    "    print(\"\\nMultiplication table for\", i)\n",
    "    for j in range(1, 11):\n",
    "        print(i, \"*\", j, \"=\", i * j)\n"
   ]
  },
  {
   "cell_type": "code",
   "execution_count": 2,
   "metadata": {},
   "outputs": [
    {
     "name": "stdout",
     "output_type": "stream",
     "text": [
      "Largest element in the array: 9\n"
     ]
    }
   ],
   "source": [
    "arr = [3, 7, 1, 9, 4, 6, 8, 2, 5]\n",
    "max_element = arr[0]\n",
    "for num in arr:\n",
    "    if num > max_element:\n",
    "        max_element = num\n",
    "print(\"Largest element in the array:\", max_element)\n"
   ]
  },
  {
   "cell_type": "code",
   "execution_count": 9,
   "metadata": {},
   "outputs": [
    {
     "name": "stdout",
     "output_type": "stream",
     "text": [
      "Smallest element in the array: 1\n"
     ]
    }
   ],
   "source": [
    "arr = [3, 7, 1, 9, 4, 6, 8, 2, 5]\n",
    "min_element = arr[0]\n",
    "for num in arr:\n",
    "    if num < min_element:\n",
    "        min_element = num\n",
    "print(\"Smallest element in the array:\", min_element)"
   ]
  },
  {
   "cell_type": "code",
   "execution_count": 7,
   "metadata": {},
   "outputs": [
    {
     "name": "stdout",
     "output_type": "stream",
     "text": [
      "Number of vowels in the string: 6\n"
     ]
    }
   ],
   "source": [
    "string = \"Hello World\"\n",
    "vowel_count = 0\n",
    "for char in string:\n",
    "    if char in \"aeiouAEIOU\":\n",
    "        vowel_count += 1\n",
    "print(\"Number of vowels in the string:\", vowel_count)"
   ]
  },
  {
   "cell_type": "code",
   "execution_count": 10,
   "metadata": {},
   "outputs": [
    {
     "name": "stdout",
     "output_type": "stream",
     "text": [
      "Sum of digits: 10\n"
     ]
    }
   ],
   "source": [
    "num = int(input(\"Enter a number: \"))\n",
    "sum_digit = 0\n",
    "for digit in str(num):\n",
    "    sum_digit += int(digit)\n",
    "print(\"Sum of digits:\", sum_digit)"
   ]
  },
  {
   "cell_type": "code",
   "execution_count": null,
   "metadata": {},
   "outputs": [],
   "source": []
  }
 ],
 "metadata": {
  "kernelspec": {
   "display_name": "Python 3",
   "language": "python",
   "name": "python3"
  },
  "language_info": {
   "codemirror_mode": {
    "name": "ipython",
    "version": 3
   },
   "file_extension": ".py",
   "mimetype": "text/x-python",
   "name": "python",
   "nbconvert_exporter": "python",
   "pygments_lexer": "ipython3",
   "version": "3.11.4"
  }
 },
 "nbformat": 4,
 "nbformat_minor": 2
}
