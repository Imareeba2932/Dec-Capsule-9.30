{
 "cells": [
  {
   "cell_type": "markdown",
   "metadata": {},
   "source": [
    "LOOPS\n",
    "- for loop\n",
    "- while loop"
   ]
  },
  {
   "cell_type": "code",
   "execution_count": 4,
   "metadata": {},
   "outputs": [
    {
     "name": "stdout",
     "output_type": "stream",
     "text": [
      "Apples\n",
      "Pears\n",
      "Oranges\n",
      "Peaches\n",
      "Bananas\n"
     ]
    }
   ],
   "source": [
    "fruits = ['Apples', 'Pears', 'Oranges', 'Peaches', 'Bananas']\n",
    "for x in fruits:\n",
    "    print(x) "
   ]
  },
  {
   "cell_type": "code",
   "execution_count": 3,
   "metadata": {},
   "outputs": [
    {
     "name": "stdout",
     "output_type": "stream",
     "text": [
      "Apples😁Pears😁Oranges😁Peaches😁Bananas😁"
     ]
    }
   ],
   "source": [
    "fruits = ['Apples', 'Pears', 'Oranges', 'Peaches', 'Bananas']\n",
    "for x in fruits:\n",
    "    print(x, end='😁')"
   ]
  },
  {
   "cell_type": "code",
   "execution_count": 4,
   "metadata": {},
   "outputs": [
    {
     "name": "stdout",
     "output_type": "stream",
     "text": [
      "M\n",
      "y\n",
      " \n",
      "n\n",
      "a\n",
      "m\n",
      "e\n",
      " \n",
      "i\n",
      "s\n",
      " \n",
      "J\n",
      "o\n",
      "h\n",
      "n\n"
     ]
    }
   ],
   "source": [
    "name = \"My name is John\"\n",
    "for i in name:\n",
    "    print(i)"
   ]
  },
  {
   "cell_type": "code",
   "execution_count": 14,
   "metadata": {},
   "outputs": [
    {
     "name": "stdout",
     "output_type": "stream",
     "text": [
      "Areeba\n",
      "Areeba\n",
      "Areeba\n",
      "Areeba\n",
      "Areeba\n",
      "Areeba\n",
      "Areeba\n",
      "Areeba\n",
      "Areeba\n",
      "Areeba\n"
     ]
    }
   ],
   "source": [
    "for name in range(10):\n",
    "    print(\"Areeba\")"
   ]
  },
  {
   "cell_type": "code",
   "execution_count": 15,
   "metadata": {},
   "outputs": [
    {
     "name": "stdout",
     "output_type": "stream",
     "text": [
      "2\n",
      "3\n",
      "4\n",
      "5\n",
      "6\n",
      "7\n",
      "8\n",
      "9\n",
      "10\n"
     ]
    }
   ],
   "source": [
    "for num in range(2,11):\n",
    "    print(num)"
   ]
  },
  {
   "cell_type": "code",
   "execution_count": 17,
   "metadata": {},
   "outputs": [
    {
     "name": "stdout",
     "output_type": "stream",
     "text": [
      "2\n",
      "4\n",
      "6\n",
      "8\n",
      "10\n",
      "12\n",
      "14\n",
      "16\n",
      "18\n",
      "20\n"
     ]
    }
   ],
   "source": [
    "for num in range(2,21,2):\n",
    "    print(num)"
   ]
  },
  {
   "cell_type": "code",
   "execution_count": 20,
   "metadata": {},
   "outputs": [
    {
     "name": "stdout",
     "output_type": "stream",
     "text": [
      "1\n",
      "3\n",
      "5\n",
      "7\n",
      "9\n",
      "11\n",
      "13\n",
      "15\n",
      "17\n",
      "19\n"
     ]
    }
   ],
   "source": [
    "for i in range(21):\n",
    "    if i%2!=0:\n",
    "        print(i)"
   ]
  },
  {
   "cell_type": "code",
   "execution_count": 22,
   "metadata": {},
   "outputs": [
    {
     "name": "stdout",
     "output_type": "stream",
     "text": [
      "Dearness Allowance is 5000.0\n",
      "House Rent Allowance is 2500.0\n",
      "Gross Salary is 57500.0\n"
     ]
    }
   ],
   "source": [
    "bs = 50000\n",
    "da = (10/100)*bs\n",
    "print(f\"Dearness Allowance is {da}\")\n",
    "hra = (5/100)*bs\n",
    "print(f\"House Rent Allowance is {hra}\")\n",
    "gs = bs+da+hra\n",
    "print(f\"Gross Salary is {gs}\")"
   ]
  },
  {
   "cell_type": "code",
   "execution_count": 1,
   "metadata": {},
   "outputs": [
    {
     "name": "stdout",
     "output_type": "stream",
     "text": [
      "15 * 1 = 15\n",
      "15 * 2 = 30\n",
      "15 * 3 = 45\n",
      "15 * 4 = 60\n",
      "15 * 5 = 75\n",
      "15 * 6 = 90\n",
      "15 * 7 = 105\n",
      "15 * 8 = 120\n",
      "15 * 9 = 135\n",
      "15 * 10 = 150\n"
     ]
    }
   ],
   "source": [
    "num = 15\n",
    "for i in range(1,11):\n",
    "    print(f\"{num} * {i} = {num*i}\")"
   ]
  },
  {
   "cell_type": "markdown",
   "metadata": {},
   "source": [
    "WHILE LOOP"
   ]
  },
  {
   "cell_type": "code",
   "execution_count": null,
   "metadata": {},
   "outputs": [],
   "source": [
    "for name in range(10):\n",
    "    print(\"Areeba\")"
   ]
  },
  {
   "cell_type": "code",
   "execution_count": 2,
   "metadata": {},
   "outputs": [
    {
     "name": "stdout",
     "output_type": "stream",
     "text": [
      "Areeba\n",
      "Areeba\n",
      "Areeba\n",
      "Areeba\n",
      "Areeba\n",
      "Areeba\n",
      "Areeba\n",
      "Areeba\n",
      "Areeba\n",
      "Areeba\n"
     ]
    }
   ],
   "source": [
    "name = 0\n",
    "while name<10:\n",
    "    print(\"Areeba\")\n",
    "    name+=1 "
   ]
  },
  {
   "cell_type": "code",
   "execution_count": 5,
   "metadata": {},
   "outputs": [
    {
     "name": "stdout",
     "output_type": "stream",
     "text": [
      "1\n",
      "3\n",
      "5\n",
      "7\n",
      "9\n"
     ]
    }
   ],
   "source": [
    "num = 1\n",
    "while num<=10:\n",
    "    if num%2!=0:\n",
    "        print(num)\n",
    "    num+=1"
   ]
  },
  {
   "cell_type": "code",
   "execution_count": 6,
   "metadata": {},
   "outputs": [
    {
     "name": "stdout",
     "output_type": "stream",
     "text": [
      "0\n",
      "1\n",
      "2\n",
      "3\n",
      "4\n",
      "5\n",
      "6\n",
      "7\n",
      "8\n",
      "9\n",
      "10\n"
     ]
    }
   ],
   "source": [
    "num = 0\n",
    "while num<=10:\n",
    "    print(num)\n",
    "    num+=1\n"
   ]
  },
  {
   "cell_type": "markdown",
   "metadata": {},
   "source": [
    "BREAK"
   ]
  },
  {
   "cell_type": "code",
   "execution_count": 5,
   "metadata": {},
   "outputs": [
    {
     "name": "stdout",
     "output_type": "stream",
     "text": [
      "2\n",
      "3\n",
      "4\n"
     ]
    }
   ],
   "source": [
    "for x in range(2,10):\n",
    "    if x==5:\n",
    "        break\n",
    "    print(x)"
   ]
  },
  {
   "cell_type": "code",
   "execution_count": 6,
   "metadata": {},
   "outputs": [
    {
     "name": "stdout",
     "output_type": "stream",
     "text": [
      "2\n",
      "3\n",
      "4\n",
      "6\n",
      "7\n",
      "8\n",
      "9\n"
     ]
    }
   ],
   "source": [
    "for x in range(2,10):\n",
    "    if x==5:\n",
    "        continue\n",
    "    print(x)"
   ]
  },
  {
   "cell_type": "code",
   "execution_count": null,
   "metadata": {},
   "outputs": [],
   "source": []
  }
 ],
 "metadata": {
  "kernelspec": {
   "display_name": "Python 3",
   "language": "python",
   "name": "python3"
  },
  "language_info": {
   "codemirror_mode": {
    "name": "ipython",
    "version": 3
   },
   "file_extension": ".py",
   "mimetype": "text/x-python",
   "name": "python",
   "nbconvert_exporter": "python",
   "pygments_lexer": "ipython3",
   "version": "3.11.4"
  }
 },
 "nbformat": 4,
 "nbformat_minor": 2
}
